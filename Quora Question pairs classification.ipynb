{
 "cells": [
  {
   "cell_type": "markdown",
   "metadata": {},
   "source": [
    "# Quora question pairs classification problem\n",
    "## summary:\n",
    "#### The dataset explored in this data set is the Quora question pairs dataset available on Kaggle. The problem is classifying duplicate questions. to flag them as duplicate or merge them with the original question"
   ]
  },
  {
   "cell_type": "code",
   "execution_count": 1,
   "metadata": {},
   "outputs": [],
   "source": [
    "import pandas as pd\n",
    "import numpy as np"
   ]
  },
  {
   "cell_type": "markdown",
   "metadata": {},
   "source": [
    "first, we read the data"
   ]
  },
  {
   "cell_type": "code",
   "execution_count": 2,
   "metadata": {},
   "outputs": [],
   "source": [
    "data_all = pd.read_csv('train.csv')\n",
    "data_all.head()\n",
    "data = data_all.sample(frac=1)"
   ]
  },
  {
   "cell_type": "code",
   "execution_count": 3,
   "metadata": {},
   "outputs": [
    {
     "name": "stdout",
     "output_type": "stream",
     "text": [
      "The data contains 404290 examples.\n",
      "We have 149263 duplicate pairs and 255027 non-duplicate pairs\n",
      "duplicate ratio is 0.37, more than one third of the data\n"
     ]
    }
   ],
   "source": [
    "print(\"The data contains {} examples.\".format(len(data)))\n",
    "counts = data.is_duplicate.value_counts()\n",
    "print(\"We have {} duplicate pairs and {} non-duplicate pairs\".format(counts[1], counts[0]))\n",
    "print(\"duplicate ratio is {:.2f}, more than one third of the data\".format(counts[1]/ counts.sum()))"
   ]
  },
  {
   "cell_type": "markdown",
   "metadata": {},
   "source": [
    "from this very simple analysis, it appears that the data is unbalanced. we should keep that in mind\n",
    "\n",
    "but first, since this is text data, we have to decide on what preprocessing steps we are going to use\n",
    "for this project i've decided to use the usual tokenization-stemming steps, but i've found that the models perform slightly better with char-level analyzers on un-stemmed data."
   ]
  },
  {
   "cell_type": "code",
   "execution_count": 4,
   "metadata": {},
   "outputs": [
    {
     "name": "stderr",
     "output_type": "stream",
     "text": [
      "[nltk_data] Downloading package stopwords to\n",
      "[nltk_data]     C:\\Users\\ayman\\AppData\\Roaming\\nltk_data...\n",
      "[nltk_data]   Package stopwords is already up-to-date!\n"
     ]
    }
   ],
   "source": [
    "import nltk\n",
    "nltk.download('stopwords')\n",
    "\n",
    "from nltk.tokenize import RegexpTokenizer\n",
    "from nltk.corpus import stopwords\n",
    "from nltk.stem.porter import PorterStemmer\n",
    "\n",
    "porter = PorterStemmer()\n",
    "tokenizer = RegexpTokenizer(r'\\w+')\n",
    "stop_words = stopwords.words('english')\n",
    "\n",
    "\n",
    "\n",
    "def clean_question(text):\n",
    "    \n",
    "    words = tokenizer.tokenize(text.lower())\n",
    "    #words = [porter.stem(word) for word in words if word not in stop_words]\n",
    "    return ' '.join(words)"
   ]
  },
  {
   "cell_type": "code",
   "execution_count": 5,
   "metadata": {},
   "outputs": [],
   "source": [
    "data.question1 = data.question1.astype(str).apply(clean_question)\n",
    "data.question2 = data.question2.astype(str).apply(clean_question)"
   ]
  },
  {
   "cell_type": "code",
   "execution_count": 6,
   "metadata": {},
   "outputs": [
    {
     "data": {
      "text/html": [
       "<div>\n",
       "<style scoped>\n",
       "    .dataframe tbody tr th:only-of-type {\n",
       "        vertical-align: middle;\n",
       "    }\n",
       "\n",
       "    .dataframe tbody tr th {\n",
       "        vertical-align: top;\n",
       "    }\n",
       "\n",
       "    .dataframe thead th {\n",
       "        text-align: right;\n",
       "    }\n",
       "</style>\n",
       "<table border=\"1\" class=\"dataframe\">\n",
       "  <thead>\n",
       "    <tr style=\"text-align: right;\">\n",
       "      <th></th>\n",
       "      <th>id</th>\n",
       "      <th>qid1</th>\n",
       "      <th>qid2</th>\n",
       "      <th>question1</th>\n",
       "      <th>question2</th>\n",
       "      <th>is_duplicate</th>\n",
       "    </tr>\n",
       "  </thead>\n",
       "  <tbody>\n",
       "    <tr>\n",
       "      <th>224462</th>\n",
       "      <td>224462</td>\n",
       "      <td>984</td>\n",
       "      <td>43475</td>\n",
       "      <td>how should i study</td>\n",
       "      <td>how can i make my study more effective</td>\n",
       "      <td>1</td>\n",
       "    </tr>\n",
       "    <tr>\n",
       "      <th>163985</th>\n",
       "      <td>163985</td>\n",
       "      <td>254927</td>\n",
       "      <td>254928</td>\n",
       "      <td>are there jobs that combine trend forecasting ...</td>\n",
       "      <td>i am starting university this fall i intend to...</td>\n",
       "      <td>0</td>\n",
       "    </tr>\n",
       "    <tr>\n",
       "      <th>199647</th>\n",
       "      <td>199647</td>\n",
       "      <td>301192</td>\n",
       "      <td>301193</td>\n",
       "      <td>how do i know if i am a pervert or stalker</td>\n",
       "      <td>how do i know if i am a pervert</td>\n",
       "      <td>0</td>\n",
       "    </tr>\n",
       "    <tr>\n",
       "      <th>243290</th>\n",
       "      <td>243290</td>\n",
       "      <td>355695</td>\n",
       "      <td>355696</td>\n",
       "      <td>have any of the catholic church s doctrines ev...</td>\n",
       "      <td>why do some catholics lobby to change the chur...</td>\n",
       "      <td>0</td>\n",
       "    </tr>\n",
       "    <tr>\n",
       "      <th>31989</th>\n",
       "      <td>31989</td>\n",
       "      <td>58932</td>\n",
       "      <td>58933</td>\n",
       "      <td>why do digital circuits have to be binary</td>\n",
       "      <td>can someone really read binary computer code</td>\n",
       "      <td>0</td>\n",
       "    </tr>\n",
       "  </tbody>\n",
       "</table>\n",
       "</div>"
      ],
      "text/plain": [
       "            id    qid1    qid2  \\\n",
       "224462  224462     984   43475   \n",
       "163985  163985  254927  254928   \n",
       "199647  199647  301192  301193   \n",
       "243290  243290  355695  355696   \n",
       "31989    31989   58932   58933   \n",
       "\n",
       "                                                question1  \\\n",
       "224462                                 how should i study   \n",
       "163985  are there jobs that combine trend forecasting ...   \n",
       "199647         how do i know if i am a pervert or stalker   \n",
       "243290  have any of the catholic church s doctrines ev...   \n",
       "31989           why do digital circuits have to be binary   \n",
       "\n",
       "                                                question2  is_duplicate  \n",
       "224462             how can i make my study more effective             1  \n",
       "163985  i am starting university this fall i intend to...             0  \n",
       "199647                    how do i know if i am a pervert             0  \n",
       "243290  why do some catholics lobby to change the chur...             0  \n",
       "31989        can someone really read binary computer code             0  "
      ]
     },
     "execution_count": 6,
     "metadata": {},
     "output_type": "execute_result"
    }
   ],
   "source": [
    "data.head()"
   ]
  },
  {
   "cell_type": "markdown",
   "metadata": {},
   "source": [
    "as we can see, the data mainly consists of the two questions' text and a label\n",
    "\n",
    "so far we've only removed symbols and punctuation, and converted all text to lowercase"
   ]
  },
  {
   "cell_type": "code",
   "execution_count": 7,
   "metadata": {},
   "outputs": [],
   "source": [
    "data = data.dropna()\n",
    "all_text = np.append(data.question1.values, data.question2.values)"
   ]
  },
  {
   "cell_type": "markdown",
   "metadata": {},
   "source": [
    "As i mentioned earlier, working with char-level tf-idf vectorization gave me some accuracy and f1-score gains (around 5%)\n",
    "The idea being, tf-idf works slightly better than word counts since I chose to keep stop words, and char-level tokenization is better.\n",
    "\n",
    "however, this means we can use much larger n-grams"
   ]
  },
  {
   "cell_type": "code",
   "execution_count": 8,
   "metadata": {},
   "outputs": [
    {
     "name": "stderr",
     "output_type": "stream",
     "text": [
      "C:\\ProgramData\\Anaconda3\\envs\\tf_gpu\\lib\\site-packages\\sklearn\\feature_extraction\\text.py:501: UserWarning: The parameter 'token_pattern' will not be used since 'analyzer' != 'word'\n",
      "  warnings.warn(\"The parameter 'token_pattern' will not be used\"\n"
     ]
    },
    {
     "data": {
      "text/plain": [
       "TfidfVectorizer(analyzer='char', max_features=30000, ngram_range=(1, 6),\n",
       "                token_pattern='\\\\w{1,}')"
      ]
     },
     "execution_count": 8,
     "metadata": {},
     "output_type": "execute_result"
    }
   ],
   "source": [
    "from sklearn.feature_extraction.text import CountVectorizer, TfidfVectorizer\n",
    "vect = TfidfVectorizer(analyzer='char', token_pattern=r'\\w{1,}', ngram_range=(1,6), max_features=30000)\n",
    "vect.fit(all_text)"
   ]
  },
  {
   "cell_type": "markdown",
   "metadata": {},
   "source": [
    "Since the dataset consists of question pairs and a label, I'm stacking the features for both question vertically to create a single feature vector for each example"
   ]
  },
  {
   "cell_type": "code",
   "execution_count": 9,
   "metadata": {},
   "outputs": [],
   "source": [
    "q1_feats = vect.transform(data.question1.values)\n",
    "q2_feats = vect.transform(data.question2.values)\n",
    "y = data.is_duplicate.values"
   ]
  },
  {
   "cell_type": "code",
   "execution_count": 10,
   "metadata": {},
   "outputs": [
    {
     "data": {
      "text/plain": [
       "(404290, 60000)"
      ]
     },
     "execution_count": 10,
     "metadata": {},
     "output_type": "execute_result"
    }
   ],
   "source": [
    "import scipy as sp\n",
    "features = sp.sparse.hstack([q1_feats, q2_feats])\n",
    "features.shape"
   ]
  },
  {
   "cell_type": "markdown",
   "metadata": {},
   "source": [
    "The new dimenion is (# of examples, 60000) since the vectorizer produces 30000 features for every question\n",
    "\n",
    "It's also useful to use dimensionality reduction to get a smaller representation of our now-huge data.\n",
    "note that the vectors produced by the scikit-learn vectorizer are sparse.\n",
    "However, the result of the Truncated SVD dimensinality reduction is a dense representation, meaning we can use it later with models that don't support sparse matrices"
   ]
  },
  {
   "cell_type": "code",
   "execution_count": 24,
   "metadata": {},
   "outputs": [],
   "source": [
    "from sklearn.decomposition import TruncatedSVD\n",
    "\n",
    "dim_reducer = TruncatedSVD(n_components=50)\n",
    "reduced_features = dim_reducer.fit_transform(features)"
   ]
  },
  {
   "cell_type": "markdown",
   "metadata": {},
   "source": [
    "Since the data is unbalanced, it's useful to calculate the ratio between negative and positive examples, to use it later as a positive example weight"
   ]
  },
  {
   "cell_type": "code",
   "execution_count": 11,
   "metadata": {},
   "outputs": [],
   "source": [
    "class_counts = data.is_duplicate.value_counts()\n",
    "pos_class_weight = class_counts[0] / class_counts[1]"
   ]
  },
  {
   "cell_type": "markdown",
   "metadata": {},
   "source": [
    "The two models i tried are the XGboost classifier and logistic regression, Logistic regression is mostly used here as a baseline for performance. while the sepcific parameters used to tune the XGboost model are a result of numerous expirements i meade."
   ]
  },
  {
   "cell_type": "code",
   "execution_count": 12,
   "metadata": {},
   "outputs": [],
   "source": [
    "from sklearn.linear_model import LogisticRegression\n",
    "from xgboost import XGBClassifier\n",
    "\n",
    "xgb_clf = XGBClassifier(base_score=0.5, booster='gbtree', colsample_bytree=0.8, \n",
    "                        eta=0.5, gamma=1, gpu_id=0, learning_rate=0.2, max_depth=60, n_estimators=120,\n",
    "                        reg_alpha=50,reg_lambda=50,scale_pos_weight=pos_class_weight,subsample=0.7)\n",
    "                        \n",
    "lr_clf = LogisticRegression(max_iter = 1000, class_weight='balanced')"
   ]
  },
  {
   "cell_type": "markdown",
   "metadata": {},
   "source": [
    "Since the data is quite large (nearly half a million examples) it's okay to use a small subset for testing\n",
    "\n",
    "Now, to split the data and test the models."
   ]
  },
  {
   "cell_type": "code",
   "execution_count": 13,
   "metadata": {},
   "outputs": [],
   "source": [
    "from sklearn.model_selection import train_test_split\n",
    "\n",
    "x_train, x_test, y_train, y_test = train_test_split(features, y, test_size = .01)"
   ]
  },
  {
   "cell_type": "code",
   "execution_count": 14,
   "metadata": {},
   "outputs": [
    {
     "data": {
      "text/plain": [
       "XGBClassifier(base_score=0.5, booster='gbtree', colsample_bylevel=1,\n",
       "              colsample_bynode=1, colsample_bytree=0.8, eta=0.5, gamma=1,\n",
       "              gpu_id=0, importance_type='gain', interaction_constraints='',\n",
       "              learning_rate=0.2, max_delta_step=0, max_depth=60,\n",
       "              min_child_weight=1, missing=nan, monotone_constraints='()',\n",
       "              n_estimators=120, n_jobs=0, num_parallel_tree=1, random_state=0,\n",
       "              reg_alpha=50, reg_lambda=50, scale_pos_weight=1.708574797505075,\n",
       "              subsample=0.7, tree_method='exact', validate_parameters=1,\n",
       "              verbosity=None)"
      ]
     },
     "execution_count": 14,
     "metadata": {},
     "output_type": "execute_result"
    }
   ],
   "source": [
    "lr_clf.fit(x_train, y_train)\n",
    "xgb_clf.fit(x_train, y_train)"
   ]
  },
  {
   "cell_type": "code",
   "execution_count": 15,
   "metadata": {},
   "outputs": [
    {
     "name": "stdout",
     "output_type": "stream",
     "text": [
      "XGBoost training accuracy:  0.9869930318028617\n",
      "Logistic regression training accuracy:  0.9869930318028617\n"
     ]
    }
   ],
   "source": [
    "from sklearn.metrics import accuracy_score, f1_score, plot_confusion_matrix\n",
    "\n",
    "print(\"XGBoost training accuracy: \", accuracy_score(y_train, xgb_clf.predict(x_train)))\n",
    "print(\"Logistic regression training accuracy: \", accuracy_score(y_train, xgb_clf.predict(x_train)))"
   ]
  },
  {
   "cell_type": "code",
   "execution_count": 16,
   "metadata": {},
   "outputs": [],
   "source": [
    "y_pred_xgb = xgb_clf.predict(x_test)\n",
    "y_pred_lr = lr_clf.predict(x_test)"
   ]
  },
  {
   "cell_type": "code",
   "execution_count": 17,
   "metadata": {},
   "outputs": [
    {
     "name": "stdout",
     "output_type": "stream",
     "text": [
      "XGBoost testing accuracy:  0.8444224585703686\n",
      "Logistic regression testing accuracy:  0.7529062577294089\n"
     ]
    }
   ],
   "source": [
    "print(\"XGBoost testing accuracy: \", accuracy_score(y_test, y_pred_xgb))\n",
    "print(\"Logistic regression testing accuracy: \", accuracy_score(y_test, y_pred_lr))"
   ]
  },
  {
   "cell_type": "code",
   "execution_count": 18,
   "metadata": {},
   "outputs": [
    {
     "name": "stdout",
     "output_type": "stream",
     "text": [
      "XGBoost testing f1-score:  0.7910993025572899\n",
      "Logistic regression testing score:  0.6867356538099718\n"
     ]
    }
   ],
   "source": [
    "print(\"XGBoost testing f1-score: \", f1_score(y_test, y_pred_xgb))\n",
    "print(\"Logistic regression testing f1-score: \", f1_score(y_test, y_pred_lr))"
   ]
  },
  {
   "cell_type": "code",
   "execution_count": 19,
   "metadata": {},
   "outputs": [
    {
     "name": "stdout",
     "output_type": "stream",
     "text": [
      "XGBoost confusion matrix\n"
     ]
    },
    {
     "data": {
      "text/plain": [
       "Text(0.5, 0.98, 'XGBoost Confusion Matrix')"
      ]
     },
     "execution_count": 19,
     "metadata": {},
     "output_type": "execute_result"
    },
    {
     "data": {
      "image/png": "[encoded data removed]",
      "text/plain": [
       "<Figure size 432x288 with 2 Axes>"
      ]
     },
     "metadata": {
      "needs_background": "light"
     },
     "output_type": "display_data"
    }
   ],
   "source": [
    "print(\"XGBoost confusion matrix\")\n",
    "disp = plot_confusion_matrix(xgb_clf, x_test, y_test)\n",
    "disp.figure_.suptitle(\"XGBoost Confusion Matrix\")"
   ]
  },
  {
   "cell_type": "code",
   "execution_count": 20,
   "metadata": {},
   "outputs": [
    {
     "name": "stdout",
     "output_type": "stream",
     "text": [
      "Logistic Regression confusion matrix\n"
     ]
    },
    {
     "data": {
      "text/plain": [
       "Text(0.5, 0.98, 'Logistic Regression Confusion Matrix')"
      ]
     },
     "execution_count": 20,
     "metadata": {},
     "output_type": "execute_result"
    },
    {
     "data": {
      "image/png": "[encoded data removed]",
      "text/plain": [
       "<Figure size 432x288 with 2 Axes>"
      ]
     },
     "metadata": {
      "needs_background": "light"
     },
     "output_type": "display_data"
    }
   ],
   "source": [
    "print(\"Logistic Regression confusion matrix\")\n",
    "disp = plot_confusion_matrix(lr_clf, x_test, y_test)\n",
    "disp.figure_.suptitle(\"Logistic Regression Confusion Matrix\")"
   ]
  },
  {
   "cell_type": "markdown",
   "metadata": {},
   "source": [
    "as expected, the XGBoost model performs better at 84%, keeping a good f1-score and a balanced confusion matrix. although there's some overfitting to the training set\n",
    "\n",
    "next, we save the vectorizer and the model, and try some other models."
   ]
  },
  {
   "cell_type": "code",
   "execution_count": 23,
   "metadata": {},
   "outputs": [],
   "source": [
    "import pickle\n",
    "\n",
    "pickle.dump(vect, open(\"tfidf.pickle\", \"wb\"))\n",
    "pickle.dump(xgb_clf, open(\"xgboost_84.pickle\", \"wb\"))\n"
   ]
  },
  {
   "cell_type": "markdown",
   "metadata": {},
   "source": [
    "First, let's try a simple deep neural network on the truncated svd data"
   ]
  },
  {
   "cell_type": "code",
   "execution_count": 25,
   "metadata": {},
   "outputs": [
    {
     "name": "stdout",
     "output_type": "stream",
     "text": [
      "Model: \"sequential_1\"\n",
      "_________________________________________________________________\n",
      "Layer (type)                 Output Shape              Param #   \n",
      "=================================================================\n",
      "dense (Dense)                (None, 100)               5100      \n",
      "_________________________________________________________________\n",
      "dense_1 (Dense)              (None, 10)                1010      \n",
      "_________________________________________________________________\n",
      "dense_2 (Dense)              (None, 1)                 11        \n",
      "=================================================================\n",
      "Total params: 6,121\n",
      "Trainable params: 6,121\n",
      "Non-trainable params: 0\n",
      "_________________________________________________________________\n"
     ]
    }
   ],
   "source": [
    "from tensorflow import keras as K\n",
    "from tensorflow.keras.preprocessing.text import Tokenizer\n",
    "\n",
    "model = K.Sequential()\n",
    "model.add(K.layers.Dense(100, batch_input_shape = (None, reduced_features.shape[1])))\n",
    "model.add(K.layers.Dense(10, 'tanh'))\n",
    "model.add(K.layers.Dense(1, 'sigmoid'))\n",
    "\n",
    "optimizer = K.optimizers.Adam(lr = .1)\n",
    "model.compile(loss = 'binary_crossentropy', metrics=['acc'], optimizer = optimizer)\n",
    "model.summary()"
   ]
  },
  {
   "cell_type": "code",
   "execution_count": 26,
   "metadata": {},
   "outputs": [
    {
     "name": "stdout",
     "output_type": "stream",
     "text": [
      "Train on 363861 samples, validate on 40429 samples\n",
      "Epoch 1/100\n",
      "363861/363861 [==============================] - 2s 6us/sample - loss: 0.7839 - acc: 0.5853 - val_loss: 1.5188 - val_acc: 0.3730\n",
      "Epoch 2/100\n",
      "363861/363861 [==============================] - 0s 0us/sample - loss: 1.2402 - acc: 0.3725 - val_loss: 0.6176 - val_acc: 0.6774\n",
      "Epoch 3/100\n",
      "363861/363861 [==============================] - 0s 0us/sample - loss: 0.6287 - acc: 0.6734 - val_loss: 0.6762 - val_acc: 0.6305\n",
      "Epoch 4/100\n",
      "363861/363861 [==============================] - 0s 0us/sample - loss: 0.6732 - acc: 0.6320 - val_loss: 0.6829 - val_acc: 0.6064\n",
      "Epoch 5/100\n",
      "363861/363861 [==============================] - 0s 0us/sample - loss: 0.6725 - acc: 0.6141 - val_loss: 0.6403 - val_acc: 0.6512\n",
      "Epoch 6/100\n",
      "363861/363861 [==============================] - 0s 0us/sample - loss: 0.6303 - acc: 0.6614 - val_loss: 0.6200 - val_acc: 0.6790\n",
      "Epoch 7/100\n",
      "363861/363861 [==============================] - 0s 1us/sample - loss: 0.6196 - acc: 0.6798 - val_loss: 0.6230 - val_acc: 0.6788\n",
      "Epoch 8/100\n",
      "363861/363861 [==============================] - 0s 0us/sample - loss: 0.6209 - acc: 0.6761 - val_loss: 0.6217 - val_acc: 0.6741\n",
      "Epoch 9/100\n",
      "363861/363861 [==============================] - 0s 0us/sample - loss: 0.6185 - acc: 0.6758 - val_loss: 0.6195 - val_acc: 0.6761\n",
      "Epoch 10/100\n",
      "363861/363861 [==============================] - 0s 0us/sample - loss: 0.6156 - acc: 0.6778 - val_loss: 0.6153 - val_acc: 0.6767\n",
      "Epoch 11/100\n",
      "363861/363861 [==============================] - 0s 0us/sample - loss: 0.6119 - acc: 0.6789 - val_loss: 0.6128 - val_acc: 0.6759\n",
      "Epoch 12/100\n",
      "363861/363861 [==============================] - 0s 0us/sample - loss: 0.6102 - acc: 0.6786 - val_loss: 0.6112 - val_acc: 0.6765\n",
      "Epoch 13/100\n",
      "363861/363861 [==============================] - 0s 0us/sample - loss: 0.6083 - acc: 0.6793 - val_loss: 0.6091 - val_acc: 0.6780\n",
      "Epoch 14/100\n",
      "363861/363861 [==============================] - 0s 0us/sample - loss: 0.6063 - acc: 0.6810 - val_loss: 0.6079 - val_acc: 0.6796\n",
      "Epoch 15/100\n",
      "363861/363861 [==============================] - 0s 0us/sample - loss: 0.6053 - acc: 0.6834 - val_loss: 0.6075 - val_acc: 0.6814\n",
      "Epoch 16/100\n",
      "363861/363861 [==============================] - 0s 0us/sample - loss: 0.6047 - acc: 0.6854 - val_loss: 0.6065 - val_acc: 0.6826\n",
      "Epoch 17/100\n",
      "363861/363861 [==============================] - 0s 0us/sample - loss: 0.6035 - acc: 0.6867 - val_loss: 0.6051 - val_acc: 0.6831\n",
      "Epoch 18/100\n",
      "363861/363861 [==============================] - 0s 0us/sample - loss: 0.6022 - acc: 0.6873 - val_loss: 0.6038 - val_acc: 0.6832\n",
      "Epoch 19/100\n",
      "363861/363861 [==============================] - 0s 0us/sample - loss: 0.6012 - acc: 0.6874 - val_loss: 0.6025 - val_acc: 0.6830\n",
      "Epoch 20/100\n",
      "363861/363861 [==============================] - 0s 0us/sample - loss: 0.6000 - acc: 0.6888 - val_loss: 0.6013 - val_acc: 0.6874\n",
      "Epoch 21/100\n",
      "363861/363861 [==============================] - 0s 0us/sample - loss: 0.5988 - acc: 0.6899 - val_loss: 0.6006 - val_acc: 0.6870\n",
      "Epoch 22/100\n",
      "363861/363861 [==============================] - 0s 0us/sample - loss: 0.5981 - acc: 0.6898 - val_loss: 0.6001 - val_acc: 0.6869\n",
      "Epoch 23/100\n",
      "363861/363861 [==============================] - 0s 1us/sample - loss: 0.5974 - acc: 0.6899 - val_loss: 0.5992 - val_acc: 0.6872\n",
      "Epoch 24/100\n",
      "363861/363861 [==============================] - 0s 0us/sample - loss: 0.5966 - acc: 0.6897 - val_loss: 0.5986 - val_acc: 0.6870\n",
      "Epoch 25/100\n",
      "363861/363861 [==============================] - 0s 0us/sample - loss: 0.5960 - acc: 0.6895 - val_loss: 0.5980 - val_acc: 0.6873\n",
      "Epoch 26/100\n",
      "363861/363861 [==============================] - 0s 0us/sample - loss: 0.5953 - acc: 0.6899 - val_loss: 0.5974 - val_acc: 0.6879\n",
      "Epoch 27/100\n",
      "363861/363861 [==============================] - 0s 0us/sample - loss: 0.5945 - acc: 0.6907 - val_loss: 0.5968 - val_acc: 0.6878\n",
      "Epoch 28/100\n",
      "363861/363861 [==============================] - 0s 0us/sample - loss: 0.5938 - acc: 0.6911 - val_loss: 0.5958 - val_acc: 0.6874\n",
      "Epoch 29/100\n",
      "363861/363861 [==============================] - 0s 0us/sample - loss: 0.5929 - acc: 0.6907 - val_loss: 0.5947 - val_acc: 0.6877\n",
      "Epoch 30/100\n",
      "363861/363861 [==============================] - 0s 0us/sample - loss: 0.5921 - acc: 0.6907 - val_loss: 0.5938 - val_acc: 0.6878\n",
      "Epoch 31/100\n",
      "363861/363861 [==============================] - 0s 0us/sample - loss: 0.5912 - acc: 0.6913 - val_loss: 0.5929 - val_acc: 0.6883\n",
      "Epoch 32/100\n",
      "363861/363861 [==============================] - 0s 0us/sample - loss: 0.5904 - acc: 0.6919 - val_loss: 0.5921 - val_acc: 0.6893\n",
      "Epoch 33/100\n",
      "363861/363861 [==============================] - 0s 0us/sample - loss: 0.5896 - acc: 0.6922 - val_loss: 0.5913 - val_acc: 0.6891\n",
      "Epoch 34/100\n",
      "363861/363861 [==============================] - 0s 0us/sample - loss: 0.5887 - acc: 0.6931 - val_loss: 0.5904 - val_acc: 0.6899\n",
      "Epoch 35/100\n",
      "363861/363861 [==============================] - 0s 0us/sample - loss: 0.5877 - acc: 0.6935 - val_loss: 0.5897 - val_acc: 0.6898\n",
      "Epoch 36/100\n",
      "363861/363861 [==============================] - 0s 0us/sample - loss: 0.5869 - acc: 0.6942 - val_loss: 0.5891 - val_acc: 0.6911\n",
      "Epoch 37/100\n",
      "363861/363861 [==============================] - 0s 0us/sample - loss: 0.5862 - acc: 0.6948 - val_loss: 0.5888 - val_acc: 0.6911\n",
      "Epoch 38/100\n",
      "363861/363861 [==============================] - 0s 0us/sample - loss: 0.5855 - acc: 0.6957 - val_loss: 0.5884 - val_acc: 0.6918\n",
      "Epoch 39/100\n",
      "363861/363861 [==============================] - 0s 0us/sample - loss: 0.5848 - acc: 0.6962 - val_loss: 0.5878 - val_acc: 0.6916\n",
      "Epoch 40/100\n",
      "363861/363861 [==============================] - 0s 0us/sample - loss: 0.5840 - acc: 0.6964 - val_loss: 0.5873 - val_acc: 0.6917\n",
      "Epoch 41/100\n",
      "363861/363861 [==============================] - 0s 0us/sample - loss: 0.5833 - acc: 0.6967 - val_loss: 0.5868 - val_acc: 0.6924\n",
      "Epoch 42/100\n",
      "363861/363861 [==============================] - 0s 0us/sample - loss: 0.5826 - acc: 0.6972 - val_loss: 0.5861 - val_acc: 0.6937\n",
      "Epoch 43/100\n",
      "363861/363861 [==============================] - 0s 0us/sample - loss: 0.5819 - acc: 0.6980 - val_loss: 0.5856 - val_acc: 0.6943\n",
      "Epoch 44/100\n",
      "363861/363861 [==============================] - 0s 0us/sample - loss: 0.5811 - acc: 0.6988 - val_loss: 0.5851 - val_acc: 0.6939\n",
      "Epoch 45/100\n",
      "363861/363861 [==============================] - 0s 0us/sample - loss: 0.5804 - acc: 0.6994 - val_loss: 0.5845 - val_acc: 0.6942\n",
      "Epoch 46/100\n",
      "363861/363861 [==============================] - 0s 0us/sample - loss: 0.5797 - acc: 0.7002 - val_loss: 0.5837 - val_acc: 0.6942\n",
      "Epoch 47/100\n",
      "363861/363861 [==============================] - 0s 0us/sample - loss: 0.5788 - acc: 0.7007 - val_loss: 0.5827 - val_acc: 0.6939\n",
      "Epoch 48/100\n",
      "363861/363861 [==============================] - 0s 0us/sample - loss: 0.5780 - acc: 0.7008 - val_loss: 0.5817 - val_acc: 0.6942\n",
      "Epoch 49/100\n",
      "363861/363861 [==============================] - 0s 0us/sample - loss: 0.5771 - acc: 0.7009 - val_loss: 0.5809 - val_acc: 0.6953\n",
      "Epoch 50/100\n",
      "363861/363861 [==============================] - 0s 0us/sample - loss: 0.5763 - acc: 0.7011 - val_loss: 0.5799 - val_acc: 0.6962\n",
      "Epoch 51/100\n",
      "363861/363861 [==============================] - 0s 0us/sample - loss: 0.5754 - acc: 0.7017 - val_loss: 0.5788 - val_acc: 0.6973\n",
      "Epoch 52/100\n",
      "363861/363861 [==============================] - 0s 0us/sample - loss: 0.5744 - acc: 0.7023 - val_loss: 0.5777 - val_acc: 0.6989\n",
      "Epoch 53/100\n",
      "363861/363861 [==============================] - 0s 0us/sample - loss: 0.5734 - acc: 0.7031 - val_loss: 0.5766 - val_acc: 0.7012\n",
      "Epoch 54/100\n",
      "363861/363861 [==============================] - 0s 0us/sample - loss: 0.5724 - acc: 0.7044 - val_loss: 0.5756 - val_acc: 0.7014\n",
      "Epoch 55/100\n",
      "363861/363861 [==============================] - 0s 0us/sample - loss: 0.5715 - acc: 0.7052 - val_loss: 0.5748 - val_acc: 0.7023\n",
      "Epoch 56/100\n",
      "363861/363861 [==============================] - 0s 0us/sample - loss: 0.5707 - acc: 0.7054 - val_loss: 0.5740 - val_acc: 0.7025\n",
      "Epoch 57/100\n",
      "363861/363861 [==============================] - 0s 0us/sample - loss: 0.5699 - acc: 0.7056 - val_loss: 0.5733 - val_acc: 0.7026\n",
      "Epoch 58/100\n",
      "363861/363861 [==============================] - 0s 0us/sample - loss: 0.5694 - acc: 0.7057 - val_loss: 0.5750 - val_acc: 0.7020\n",
      "Epoch 59/100\n",
      "363861/363861 [==============================] - 0s 0us/sample - loss: 0.5715 - acc: 0.7047 - val_loss: 0.5831 - val_acc: 0.6997\n",
      "Epoch 60/100\n",
      "363861/363861 [==============================] - 0s 0us/sample - loss: 0.5739 - acc: 0.7043 - val_loss: 0.5778 - val_acc: 0.7018\n",
      "Epoch 61/100\n",
      "363861/363861 [==============================] - 0s 0us/sample - loss: 0.5764 - acc: 0.7024 - val_loss: 0.5762 - val_acc: 0.7039\n",
      "Epoch 62/100\n",
      "363861/363861 [==============================] - 0s 0us/sample - loss: 0.5755 - acc: 0.7019 - val_loss: 0.5731 - val_acc: 0.7035\n",
      "Epoch 63/100\n",
      "363861/363861 [==============================] - 0s 0us/sample - loss: 0.5720 - acc: 0.7056 - val_loss: 0.5759 - val_acc: 0.7028\n",
      "Epoch 64/100\n",
      "363861/363861 [==============================] - 0s 0us/sample - loss: 0.5711 - acc: 0.7055 - val_loss: 0.5757 - val_acc: 0.7023\n",
      "Epoch 65/100\n",
      "363861/363861 [==============================] - 0s 0us/sample - loss: 0.5707 - acc: 0.7054 - val_loss: 0.5774 - val_acc: 0.7032\n",
      "Epoch 66/100\n",
      "363861/363861 [==============================] - 0s 0us/sample - loss: 0.5701 - acc: 0.7066 - val_loss: 0.5747 - val_acc: 0.7032\n",
      "Epoch 67/100\n",
      "363861/363861 [==============================] - 0s 0us/sample - loss: 0.5695 - acc: 0.7055 - val_loss: 0.5738 - val_acc: 0.7047\n",
      "Epoch 68/100\n",
      "363861/363861 [==============================] - 0s 0us/sample - loss: 0.5685 - acc: 0.7074 - val_loss: 0.5715 - val_acc: 0.7042\n",
      "Epoch 69/100\n",
      "363861/363861 [==============================] - 0s 0us/sample - loss: 0.5675 - acc: 0.7075 - val_loss: 0.5711 - val_acc: 0.7041\n",
      "Epoch 70/100\n",
      "363861/363861 [==============================] - 0s 0us/sample - loss: 0.5669 - acc: 0.7076 - val_loss: 0.5709 - val_acc: 0.7054\n",
      "Epoch 71/100\n",
      "363861/363861 [==============================] - 0s 0us/sample - loss: 0.5665 - acc: 0.7083 - val_loss: 0.5700 - val_acc: 0.7056\n",
      "Epoch 72/100\n",
      "363861/363861 [==============================] - 0s 0us/sample - loss: 0.5658 - acc: 0.7085 - val_loss: 0.5697 - val_acc: 0.7055\n",
      "Epoch 73/100\n",
      "363861/363861 [==============================] - 0s 0us/sample - loss: 0.5654 - acc: 0.7087 - val_loss: 0.5698 - val_acc: 0.7047\n",
      "Epoch 74/100\n",
      "363861/363861 [==============================] - 0s 0us/sample - loss: 0.5648 - acc: 0.7090 - val_loss: 0.5693 - val_acc: 0.7073\n",
      "Epoch 75/100\n",
      "363861/363861 [==============================] - 0s 0us/sample - loss: 0.5643 - acc: 0.7098 - val_loss: 0.5700 - val_acc: 0.7052\n",
      "Epoch 76/100\n",
      "363861/363861 [==============================] - 0s 0us/sample - loss: 0.5642 - acc: 0.7094 - val_loss: 0.5685 - val_acc: 0.7068\n",
      "Epoch 77/100\n",
      "363861/363861 [==============================] - 0s 0us/sample - loss: 0.5637 - acc: 0.7101 - val_loss: 0.5687 - val_acc: 0.7046\n",
      "Epoch 78/100\n",
      "363861/363861 [==============================] - 0s 0us/sample - loss: 0.5631 - acc: 0.7102 - val_loss: 0.5687 - val_acc: 0.7056\n",
      "Epoch 79/100\n",
      "363861/363861 [==============================] - 0s 0us/sample - loss: 0.5629 - acc: 0.7102 - val_loss: 0.5676 - val_acc: 0.7060\n",
      "Epoch 80/100\n",
      "363861/363861 [==============================] - 0s 0us/sample - loss: 0.5623 - acc: 0.7104 - val_loss: 0.5674 - val_acc: 0.7061\n",
      "Epoch 81/100\n",
      "363861/363861 [==============================] - 0s 0us/sample - loss: 0.5621 - acc: 0.7105 - val_loss: 0.5669 - val_acc: 0.7062\n",
      "Epoch 82/100\n",
      "363861/363861 [==============================] - 0s 1us/sample - loss: 0.5615 - acc: 0.7110 - val_loss: 0.5673 - val_acc: 0.7050\n",
      "Epoch 83/100\n",
      "363861/363861 [==============================] - 0s 1us/sample - loss: 0.5613 - acc: 0.7106 - val_loss: 0.5681 - val_acc: 0.7048\n",
      "Epoch 84/100\n",
      "363861/363861 [==============================] - 0s 0us/sample - loss: 0.5619 - acc: 0.7110 - val_loss: 0.5672 - val_acc: 0.7054\n",
      "Epoch 85/100\n",
      "363861/363861 [==============================] - 0s 0us/sample - loss: 0.5610 - acc: 0.7117 - val_loss: 0.5662 - val_acc: 0.7057\n",
      "Epoch 86/100\n",
      "363861/363861 [==============================] - 0s 0us/sample - loss: 0.5602 - acc: 0.7118 - val_loss: 0.5657 - val_acc: 0.7066\n",
      "Epoch 87/100\n",
      "363861/363861 [==============================] - 0s 0us/sample - loss: 0.5600 - acc: 0.7126 - val_loss: 0.5659 - val_acc: 0.7055\n",
      "Epoch 88/100\n",
      "363861/363861 [==============================] - 0s 0us/sample - loss: 0.5601 - acc: 0.7123 - val_loss: 0.5679 - val_acc: 0.7061\n",
      "Epoch 89/100\n",
      "363861/363861 [==============================] - 0s 0us/sample - loss: 0.5620 - acc: 0.7115 - val_loss: 0.5731 - val_acc: 0.7066\n",
      "Epoch 90/100\n",
      "363861/363861 [==============================] - 0s 1us/sample - loss: 0.5637 - acc: 0.7118 - val_loss: 0.5660 - val_acc: 0.7058\n",
      "Epoch 91/100\n",
      "363861/363861 [==============================] - 0s 1us/sample - loss: 0.5611 - acc: 0.7124 - val_loss: 0.5654 - val_acc: 0.7074\n",
      "Epoch 92/100\n",
      "363861/363861 [==============================] - 0s 0us/sample - loss: 0.5600 - acc: 0.7122 - val_loss: 0.5687 - val_acc: 0.7063\n",
      "Epoch 93/100\n",
      "363861/363861 [==============================] - 0s 0us/sample - loss: 0.5606 - acc: 0.7126 - val_loss: 0.5653 - val_acc: 0.7071\n",
      "Epoch 94/100\n",
      "363861/363861 [==============================] - 0s 0us/sample - loss: 0.5604 - acc: 0.7130 - val_loss: 0.5639 - val_acc: 0.7071\n",
      "Epoch 95/100\n",
      "363861/363861 [==============================] - 0s 0us/sample - loss: 0.5591 - acc: 0.7130 - val_loss: 0.5684 - val_acc: 0.7060\n",
      "Epoch 96/100\n",
      "363861/363861 [==============================] - 0s 0us/sample - loss: 0.5603 - acc: 0.7127 - val_loss: 0.5638 - val_acc: 0.7083\n",
      "Epoch 97/100\n",
      "363861/363861 [==============================] - ETA: 0s - loss: 0.5589 - acc: 0.713 - 0s 0us/sample - loss: 0.5592 - acc: 0.7132 - val_loss: 0.5633 - val_acc: 0.7080\n",
      "Epoch 98/100\n",
      "363861/363861 [==============================] - 0s 0us/sample - loss: 0.5579 - acc: 0.7139 - val_loss: 0.5649 - val_acc: 0.7088\n",
      "Epoch 99/100\n",
      "363861/363861 [==============================] - 0s 0us/sample - loss: 0.5580 - acc: 0.7141 - val_loss: 0.5636 - val_acc: 0.7071\n",
      "Epoch 100/100\n",
      "363861/363861 [==============================] - 0s 0us/sample - loss: 0.5584 - acc: 0.7138 - val_loss: 0.5628 - val_acc: 0.7080\n"
     ]
    },
    {
     "data": {
      "text/plain": [
       "<tensorflow.python.keras.callbacks.History at 0x1483cde4a48>"
      ]
     },
     "execution_count": 26,
     "metadata": {},
     "output_type": "execute_result"
    }
   ],
   "source": [
    "model.fit(reduced_features, y, epochs = 100, batch_size = 200000, validation_split = .1)"
   ]
  },
  {
   "cell_type": "markdown",
   "metadata": {},
   "source": [
    "The performance after 100 epochs is worse than logistic regression. it appears we should try a more complex model that's geared towards text (or rather sequence) classification\n",
    "\n",
    "Using keras, we first create a text tokenizer, and use it to transform our text data into a sequence of tokens"
   ]
  },
  {
   "cell_type": "code",
   "execution_count": 27,
   "metadata": {},
   "outputs": [],
   "source": [
    "from tensorflow import keras as K\n",
    "from tensorflow.keras.preprocessing.text import Tokenizer\n",
    "MAX_LENGTH = 100\n",
    "#NUM_WORDS = 50000\n",
    "tokenizer = Tokenizer()\n",
    "\n",
    "tokenizer.fit_on_texts(all_text)\n",
    "vocab_size = len(tokenizer.word_index) + 1\n"
   ]
  },
  {
   "cell_type": "markdown",
   "metadata": {},
   "source": [
    "Padding the sequences is necessary to later use them as input to an embedding layer"
   ]
  },
  {
   "cell_type": "code",
   "execution_count": 28,
   "metadata": {},
   "outputs": [],
   "source": [
    "from tensorflow.keras.preprocessing.sequence import pad_sequences\n",
    "\n",
    "q1_seq = pad_sequences(tokenizer.texts_to_sequences(data.question1.values.astype(str)), maxlen = MAX_LENGTH)\n",
    "q2_seq = pad_sequences(tokenizer.texts_to_sequences(data.question2.values.astype(str)), maxlen = MAX_LENGTH)"
   ]
  },
  {
   "cell_type": "markdown",
   "metadata": {},
   "source": [
    "The model archticture proposed here is a simple one, Using an embedding layer and a bidirectional LSTM to extract features from both question sequences, then concatinating the outputs to feed-forward them into a dense layer that outputs a label"
   ]
  },
  {
   "cell_type": "code",
   "execution_count": 33,
   "metadata": {},
   "outputs": [
    {
     "name": "stdout",
     "output_type": "stream",
     "text": [
      "Model: \"model_1\"\n",
      "__________________________________________________________________________________________________\n",
      "Layer (type)                    Output Shape         Param #     Connected to                     \n",
      "==================================================================================================\n",
      "input_3 (InputLayer)            [(None, 100)]        0                                            \n",
      "__________________________________________________________________________________________________\n",
      "input_4 (InputLayer)            [(None, 100)]        0                                            \n",
      "__________________________________________________________________________________________________\n",
      "embedding_1 (Embedding)         (None, 100, 10)      862000      input_3[0][0]                    \n",
      "                                                                 input_4[0][0]                    \n",
      "__________________________________________________________________________________________________\n",
      "bidirectional_1 (Bidirectional) (None, 20)           1680        embedding_1[0][0]                \n",
      "                                                                 embedding_1[1][0]                \n",
      "__________________________________________________________________________________________________\n",
      "dropout_3 (Dropout)             (None, 20)           0           bidirectional_1[0][0]            \n",
      "                                                                 bidirectional_1[1][0]            \n",
      "__________________________________________________________________________________________________\n",
      "dense_7 (Dense)                 (None, 1)            21          dropout_3[0][0]                  \n",
      "                                                                 dropout_3[1][0]                  \n",
      "__________________________________________________________________________________________________\n",
      "dropout_4 (Dropout)             (None, 1)            0           dense_7[0][0]                    \n",
      "                                                                 dense_7[1][0]                    \n",
      "__________________________________________________________________________________________________\n",
      "concatenate_1 (Concatenate)     (None, 2)            0           dropout_4[0][0]                  \n",
      "                                                                 dropout_4[1][0]                  \n",
      "__________________________________________________________________________________________________\n",
      "dense_9 (Dense)                 (None, 1)            3           concatenate_1[0][0]              \n",
      "==================================================================================================\n",
      "Total params: 863,704\n",
      "Trainable params: 863,704\n",
      "Non-trainable params: 0\n",
      "__________________________________________________________________________________________________\n"
     ]
    }
   ],
   "source": [
    "num_words = len(tokenizer.word_index) + 1\n",
    "regularizer = K.regularizers.l1_l2(l1=1e-4, l2=1e-4)\n",
    "\n",
    "Q1 = K.layers.Input((len(q1_seq[0])))\n",
    "Q2 = K.layers.Input((len(q1_seq[0])))\n",
    "\n",
    "embed_layer = K.layers.Embedding(vocab_size, 10)\n",
    "\n",
    "lstm_layer = K.layers.Bidirectional(K.layers.LSTM(10, kernel_regularizer=regularizer))\n",
    "\n",
    "dropout1 = K.layers.Dropout(0.5)\n",
    "dropout2 = K.layers.Dropout(0.5)\n",
    "\n",
    "dense = K.layers.Dense(1, kernel_regularizer=regularizer)\n",
    "dense_features = K.layers.Dense(32)\n",
    "\n",
    "out_layer = K.layers.Dense(1, activation='sigmoid')\n",
    "\n",
    "def apply_stack(q):\n",
    "    \n",
    "    q = embed_layer(q)\n",
    "    q = lstm_layer(q)\n",
    "    q = dropout1(q)\n",
    "    q = dense(q)\n",
    "    q = dropout2(q)\n",
    "    return q\n",
    "\n",
    "conc_dense = K.layers.concatenate([apply_stack(Q1),\n",
    "                                   apply_stack(Q2)])\n",
    "\n",
    "output = out_layer(conc_dense)\n",
    "\n",
    "model = K.Model(inputs = [Q1, Q2], outputs = [output])\n",
    "optimizer = K.optimizers.Adam(\n",
    "    learning_rate=.001,\n",
    "    decay = 1e-6\n",
    ")\n",
    "model.compile(loss = 'binary_crossentropy', metrics=['acc'], optimizer = optimizer)\n",
    "model.summary()"
   ]
  },
  {
   "cell_type": "code",
   "execution_count": 34,
   "metadata": {},
   "outputs": [],
   "source": [
    "early_stopping = K.callbacks.EarlyStopping(monitor ='val_loss', min_delta = 1e-4, patience = 3)"
   ]
  },
  {
   "cell_type": "code",
   "execution_count": 35,
   "metadata": {},
   "outputs": [
    {
     "data": {
      "image/png": "[encoded data removed]",
      "text/plain": [
       "<IPython.core.display.Image object>"
      ]
     },
     "execution_count": 35,
     "metadata": {},
     "output_type": "execute_result"
    }
   ],
   "source": [
    "K.utils.plot_model(model)"
   ]
  },
  {
   "cell_type": "markdown",
   "metadata": {},
   "source": [
    "as the diagram above shows, i'm using the same layers with the same weights to extract features from both questions, since questions are basically the same structure and information learned from one question can be applied to another.\n",
    "\n",
    "Let's train this model and see how it performs"
   ]
  },
  {
   "cell_type": "code",
   "execution_count": 32,
   "metadata": {},
   "outputs": [
    {
     "name": "stdout",
     "output_type": "stream",
     "text": [
      "Train on 400247 samples, validate on 4043 samples\n",
      "Epoch 1/10\n",
      "400247/400247 [==============================] - 29s 71us/sample - loss: 0.6887 - acc: 0.6294 - val_loss: 0.6710 - val_acc: 0.6235\n",
      "Epoch 2/10\n",
      "400247/400247 [==============================] - 17s 43us/sample - loss: 0.6510 - acc: 0.6435 - val_loss: 0.6098 - val_acc: 0.6639\n",
      "Epoch 3/10\n",
      "400247/400247 [==============================] - 17s 42us/sample - loss: 0.6119 - acc: 0.6881 - val_loss: 0.5704 - val_acc: 0.7321\n",
      "Epoch 4/10\n",
      "400247/400247 [==============================] - 17s 42us/sample - loss: 0.5917 - acc: 0.7053 - val_loss: 0.5525 - val_acc: 0.7482\n",
      "Epoch 5/10\n",
      "400247/400247 [==============================] - 17s 42us/sample - loss: 0.5759 - acc: 0.7127 - val_loss: 0.5397 - val_acc: 0.7527\n",
      "Epoch 6/10\n",
      "400247/400247 [==============================] - 17s 42us/sample - loss: 0.5665 - acc: 0.7171 - val_loss: 0.5311 - val_acc: 0.7512\n",
      "Epoch 7/10\n",
      "400247/400247 [==============================] - 17s 43us/sample - loss: 0.5591 - acc: 0.7210 - val_loss: 0.5246 - val_acc: 0.7561\n",
      "Epoch 8/10\n",
      "400247/400247 [==============================] - 17s 43us/sample - loss: 0.5522 - acc: 0.7236 - val_loss: 0.5218 - val_acc: 0.7561\n",
      "Epoch 9/10\n",
      "400247/400247 [==============================] - 17s 44us/sample - loss: 0.5470 - acc: 0.7262 - val_loss: 0.5181 - val_acc: 0.7593\n",
      "Epoch 10/10\n",
      "400247/400247 [==============================] - 17s 42us/sample - loss: 0.5423 - acc: 0.7286 - val_loss: 0.5157 - val_acc: 0.7633\n"
     ]
    },
    {
     "data": {
      "text/plain": [
       "<tensorflow.python.keras.callbacks.History at 0x1487a7b7cc8>"
      ]
     },
     "execution_count": 32,
     "metadata": {},
     "output_type": "execute_result"
    }
   ],
   "source": [
    "model.fit(x = [q1_seq, q2_seq],y= data.is_duplicate.values, batch_size = 5000, epochs = 10, validation_split = .01,\n",
    "         validation_freq=1, callbacks = [early_stopping])"
   ]
  },
  {
   "cell_type": "markdown",
   "metadata": {},
   "source": [
    "The model trained much faster than the XGBoost model, However. judging by the validation accuracy, it only did slightly better (about 1%) than the logistic regression model"
   ]
  },
  {
   "cell_type": "code",
   "execution_count": null,
   "metadata": {},
   "outputs": [],
   "source": [
    "model.save('./simple_lstm_conv_no_batchnorm')"
   ]
  },
  {
   "cell_type": "code",
   "execution_count": null,
   "metadata": {},
   "outputs": [],
   "source": []
  }
 ],
 "metadata": {
  "kernelspec": {
   "display_name": "Python [conda env:tf_gpu] *",
   "language": "python",
   "name": "conda-env-tf_gpu-py"
  },
  "language_info": {
   "codemirror_mode": {
    "name": "ipython",
    "version": 3
   },
   "file_extension": ".py",
   "mimetype": "text/x-python",
   "name": "python",
   "nbconvert_exporter": "python",
   "pygments_lexer": "ipython3",
   "version": "3.7.7"
  }
 },
 "nbformat": 4,
 "nbformat_minor": 4
}
